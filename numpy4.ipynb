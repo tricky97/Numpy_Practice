{
 "cells": [
  {
   "cell_type": "code",
   "execution_count": 1,
   "id": "2e7cafdd-dad8-462b-b433-cd8957d5e1aa",
   "metadata": {},
   "outputs": [],
   "source": [
    "import numpy as np"
   ]
  },
  {
   "cell_type": "code",
   "execution_count": 4,
   "id": "7f98fb80-179b-4b02-a078-251a4792515e",
   "metadata": {},
   "outputs": [],
   "source": [
    "arr=np.array([4,5,2,1,7,2,3])"
   ]
  },
  {
   "cell_type": "code",
   "execution_count": 6,
   "id": "a512ad3d-7f65-4983-b7fe-38fec750280f",
   "metadata": {},
   "outputs": [
    {
     "data": {
      "text/plain": [
       "array([4, 5, 2, 1, 7, 2, 3])"
      ]
     },
     "execution_count": 6,
     "metadata": {},
     "output_type": "execute_result"
    }
   ],
   "source": [
    "arr"
   ]
  },
  {
   "cell_type": "code",
   "execution_count": 5,
   "id": "957e931a-74af-4cf8-b5b0-2ae8e6f3ef3c",
   "metadata": {},
   "outputs": [
    {
     "data": {
      "text/plain": [
       "array([1, 2, 2, 3, 4, 5, 7])"
      ]
     },
     "execution_count": 5,
     "metadata": {},
     "output_type": "execute_result"
    }
   ],
   "source": [
    "np.sort(arr)"
   ]
  },
  {
   "cell_type": "code",
   "execution_count": 8,
   "id": "982eb751-f7b1-437b-a567-88f6c14efa60",
   "metadata": {},
   "outputs": [
    {
     "data": {
      "text/plain": [
       "7"
      ]
     },
     "execution_count": 8,
     "metadata": {},
     "output_type": "execute_result"
    }
   ],
   "source": [
    "np.searchsorted(arr,6)"
   ]
  },
  {
   "cell_type": "code",
   "execution_count": 10,
   "id": "cb39f293-90b8-4236-8728-f75b80218acc",
   "metadata": {},
   "outputs": [],
   "source": [
    "arr1=np.array([0,2,0,1,4,5,2,0,41,5,4,0,0,0,5])"
   ]
  },
  {
   "cell_type": "code",
   "execution_count": 11,
   "id": "6a44da0e-836d-4dc7-97d9-ce15058ecc14",
   "metadata": {},
   "outputs": [
    {
     "data": {
      "text/plain": [
       "9"
      ]
     },
     "execution_count": 11,
     "metadata": {},
     "output_type": "execute_result"
    }
   ],
   "source": [
    "np.count_nonzero(arr1)"
   ]
  },
  {
   "cell_type": "code",
   "execution_count": 12,
   "id": "daac0244-73bb-4510-a4c0-9901159d3b14",
   "metadata": {},
   "outputs": [
    {
     "data": {
      "text/plain": [
       "(array([ 1,  3,  4,  5,  6,  8,  9, 10, 14]),)"
      ]
     },
     "execution_count": 12,
     "metadata": {},
     "output_type": "execute_result"
    }
   ],
   "source": [
    "np.where(arr1>0)"
   ]
  },
  {
   "cell_type": "code",
   "execution_count": 13,
   "id": "a9f8af72-8163-4aed-8fcf-909c95a9d635",
   "metadata": {},
   "outputs": [
    {
     "data": {
      "text/plain": [
       "array([ 4,  5, 41,  5,  4,  5])"
      ]
     },
     "execution_count": 13,
     "metadata": {},
     "output_type": "execute_result"
    }
   ],
   "source": [
    "np.extract(arr1 >2 ,arr1)"
   ]
  },
  {
   "cell_type": "code",
   "execution_count": 14,
   "id": "84577ac7-365b-4267-98c1-d2dd5a013374",
   "metadata": {},
   "outputs": [],
   "source": [
    "a=np.copy(arr1)"
   ]
  },
  {
   "cell_type": "code",
   "execution_count": 15,
   "id": "f00ad56f-8a11-4bd9-9637-6e3d6fc9b755",
   "metadata": {},
   "outputs": [
    {
     "data": {
      "text/plain": [
       "array([ 0,  2,  0,  1,  4,  5,  2,  0, 41,  5,  4,  0,  0,  0,  5])"
      ]
     },
     "execution_count": 15,
     "metadata": {},
     "output_type": "execute_result"
    }
   ],
   "source": [
    "a"
   ]
  },
  {
   "cell_type": "code",
   "execution_count": 16,
   "id": "942d8de7-3fcd-4e21-a5ad-b628d36974ec",
   "metadata": {},
   "outputs": [
    {
     "data": {
      "text/plain": [
       "array([ 0,  2,  0,  1,  4,  5,  2,  0, 41,  5,  4,  0,  0,  0,  5])"
      ]
     },
     "execution_count": 16,
     "metadata": {},
     "output_type": "execute_result"
    }
   ],
   "source": [
    "arr1"
   ]
  },
  {
   "cell_type": "code",
   "execution_count": 17,
   "id": "ce76e259-9b5f-415b-80b4-0d813bb3b9b9",
   "metadata": {},
   "outputs": [],
   "source": [
    "b=arr.view()"
   ]
  },
  {
   "cell_type": "code",
   "execution_count": 18,
   "id": "cca4bcd4-5643-407f-bae3-54a06bf195db",
   "metadata": {},
   "outputs": [
    {
     "data": {
      "text/plain": [
       "array([4, 5, 2, 1, 7, 2, 3])"
      ]
     },
     "execution_count": 18,
     "metadata": {},
     "output_type": "execute_result"
    }
   ],
   "source": [
    "b"
   ]
  },
  {
   "cell_type": "code",
   "execution_count": 19,
   "id": "3e0f0f87-b38c-4be1-b9f5-7255aee9d3e3",
   "metadata": {},
   "outputs": [],
   "source": [
    "b[0]=234"
   ]
  },
  {
   "cell_type": "code",
   "execution_count": 20,
   "id": "e445bc3a-6985-4592-8fd1-7a8f412f55f1",
   "metadata": {},
   "outputs": [
    {
     "data": {
      "text/plain": [
       "array([234,   5,   2,   1,   7,   2,   3])"
      ]
     },
     "execution_count": 20,
     "metadata": {},
     "output_type": "execute_result"
    }
   ],
   "source": [
    "b"
   ]
  },
  {
   "cell_type": "code",
   "execution_count": 21,
   "id": "698b6548-e092-41e4-94e4-bbcad8715a8c",
   "metadata": {},
   "outputs": [],
   "source": [
    "import numpy.matlib as nm"
   ]
  },
  {
   "cell_type": "code",
   "execution_count": 22,
   "id": "f509c581-c3bb-4d54-82d7-f091412fc7be",
   "metadata": {},
   "outputs": [
    {
     "data": {
      "text/plain": [
       "matrix([[0., 0., 0., 0., 0.]])"
      ]
     },
     "execution_count": 22,
     "metadata": {},
     "output_type": "execute_result"
    }
   ],
   "source": [
    "nm.zeros(5)"
   ]
  },
  {
   "cell_type": "code",
   "execution_count": 23,
   "id": "ea408fdd-544a-4806-9ab3-fa65b7bedcc3",
   "metadata": {},
   "outputs": [
    {
     "data": {
      "text/plain": [
       "matrix([[1., 1., 1., 1.],\n",
       "        [1., 1., 1., 1.],\n",
       "        [1., 1., 1., 1.]])"
      ]
     },
     "execution_count": 23,
     "metadata": {},
     "output_type": "execute_result"
    }
   ],
   "source": [
    "nm.ones((3,4))"
   ]
  },
  {
   "cell_type": "code",
   "execution_count": 24,
   "id": "8c24d336-c1e6-40dd-b78e-083e250af878",
   "metadata": {},
   "outputs": [
    {
     "ename": "NameError",
     "evalue": "name 'eye' is not defined",
     "output_type": "error",
     "traceback": [
      "\u001b[0;31m---------------------------------------------------------------------------\u001b[0m",
      "\u001b[0;31mNameError\u001b[0m                                 Traceback (most recent call last)",
      "Cell \u001b[0;32mIn[24], line 1\u001b[0m\n\u001b[0;32m----> 1\u001b[0m nm,\u001b[43meye\u001b[49m(\u001b[38;5;241m4\u001b[39m)\n",
      "\u001b[0;31mNameError\u001b[0m: name 'eye' is not defined"
     ]
    }
   ],
   "source": [
    "nm,eye(4)"
   ]
  },
  {
   "cell_type": "code",
   "execution_count": 25,
   "id": "483120c4-bb95-4834-a29a-ee1eed3a3a53",
   "metadata": {},
   "outputs": [
    {
     "data": {
      "text/plain": [
       "matrix([[1., 0., 0., 0.],\n",
       "        [0., 1., 0., 0.],\n",
       "        [0., 0., 1., 0.],\n",
       "        [0., 0., 0., 1.]])"
      ]
     },
     "execution_count": 25,
     "metadata": {},
     "output_type": "execute_result"
    }
   ],
   "source": [
    "nm.eye(4)"
   ]
  },
  {
   "cell_type": "code",
   "execution_count": 26,
   "id": "463d97c9-500f-45a4-8dc8-37e595a6dae4",
   "metadata": {},
   "outputs": [],
   "source": [
    "arr2=np.random.randint(2,5,(4,5))"
   ]
  },
  {
   "cell_type": "code",
   "execution_count": 27,
   "id": "bea67424-4b52-4b65-8440-98604a41a6f2",
   "metadata": {},
   "outputs": [
    {
     "data": {
      "text/plain": [
       "array([ 0,  2,  0,  1,  4,  5,  2,  0, 41,  5,  4,  0,  0,  0,  5])"
      ]
     },
     "execution_count": 27,
     "metadata": {},
     "output_type": "execute_result"
    }
   ],
   "source": [
    "arr1"
   ]
  },
  {
   "cell_type": "code",
   "execution_count": 28,
   "id": "ba324fdb-8624-41aa-bc7a-0e6446b4b2d9",
   "metadata": {},
   "outputs": [
    {
     "data": {
      "text/plain": [
       "array([[2, 2, 3, 3, 3],\n",
       "       [3, 3, 4, 4, 3],\n",
       "       [2, 3, 4, 2, 2],\n",
       "       [3, 3, 3, 2, 4]])"
      ]
     },
     "execution_count": 28,
     "metadata": {},
     "output_type": "execute_result"
    }
   ],
   "source": [
    "arr2"
   ]
  },
  {
   "cell_type": "code",
   "execution_count": 29,
   "id": "fc26cb6d-11f9-4bb6-ad5f-425743a324b6",
   "metadata": {},
   "outputs": [],
   "source": [
    "arr3=np.random.randint(2,5,(4,5))"
   ]
  },
  {
   "cell_type": "code",
   "execution_count": 30,
   "id": "0fa9bf21-8b24-43ea-804d-73deb3eeaf45",
   "metadata": {},
   "outputs": [
    {
     "data": {
      "text/plain": [
       "array([[2, 3, 2, 2, 2],\n",
       "       [4, 2, 3, 2, 4],\n",
       "       [2, 4, 2, 2, 3],\n",
       "       [4, 4, 2, 3, 4]])"
      ]
     },
     "execution_count": 30,
     "metadata": {},
     "output_type": "execute_result"
    }
   ],
   "source": [
    "arr3"
   ]
  },
  {
   "cell_type": "code",
   "execution_count": 32,
   "id": "2b9dd54d-fa9e-4f2f-96fd-0e6c2d3f394d",
   "metadata": {},
   "outputs": [
    {
     "ename": "ValueError",
     "evalue": "shapes (4,5) and (4,5) not aligned: 5 (dim 1) != 4 (dim 0)",
     "output_type": "error",
     "traceback": [
      "\u001b[0;31m---------------------------------------------------------------------------\u001b[0m",
      "\u001b[0;31mValueError\u001b[0m                                Traceback (most recent call last)",
      "Cell \u001b[0;32mIn[32], line 1\u001b[0m\n\u001b[0;32m----> 1\u001b[0m \u001b[43mnp\u001b[49m\u001b[38;5;241;43m.\u001b[39;49m\u001b[43mdot\u001b[49m\u001b[43m(\u001b[49m\u001b[43marr2\u001b[49m\u001b[43m,\u001b[49m\u001b[43marr3\u001b[49m\u001b[43m)\u001b[49m\n",
      "File \u001b[0;32m<__array_function__ internals>:180\u001b[0m, in \u001b[0;36mdot\u001b[0;34m(*args, **kwargs)\u001b[0m\n",
      "\u001b[0;31mValueError\u001b[0m: shapes (4,5) and (4,5) not aligned: 5 (dim 1) != 4 (dim 0)"
     ]
    }
   ],
   "source": [
    "np.dot(arr2,arr3)"
   ]
  },
  {
   "cell_type": "code",
   "execution_count": 33,
   "id": "7e0f5ade-557c-4441-bc73-5973aa2e4be1",
   "metadata": {},
   "outputs": [
    {
     "ename": "TypeError",
     "evalue": "dot() missing 1 required positional argument: 'b'",
     "output_type": "error",
     "traceback": [
      "\u001b[0;31m---------------------------------------------------------------------------\u001b[0m",
      "\u001b[0;31mTypeError\u001b[0m                                 Traceback (most recent call last)",
      "Cell \u001b[0;32mIn[33], line 1\u001b[0m\n\u001b[0;32m----> 1\u001b[0m \u001b[43mnp\u001b[49m\u001b[38;5;241;43m.\u001b[39;49m\u001b[43mdot\u001b[49m\u001b[43m(\u001b[49m\u001b[43m(\u001b[49m\u001b[43marr2\u001b[49m\u001b[43m,\u001b[49m\u001b[43marr3\u001b[49m\u001b[43m)\u001b[49m\u001b[43m)\u001b[49m\n",
      "File \u001b[0;32m<__array_function__ internals>:179\u001b[0m, in \u001b[0;36mdot\u001b[0;34m(*args, **kwargs)\u001b[0m\n",
      "\u001b[0;31mTypeError\u001b[0m: dot() missing 1 required positional argument: 'b'"
     ]
    }
   ],
   "source": [
    "np.dot((arr2,arr3))"
   ]
  },
  {
   "cell_type": "code",
   "execution_count": null,
   "id": "4b9bf80e-a68b-4740-a78c-8af5b1b6dfe3",
   "metadata": {},
   "outputs": [],
   "source": []
  }
 ],
 "metadata": {
  "kernelspec": {
   "display_name": "Python 3 (ipykernel)",
   "language": "python",
   "name": "python3"
  },
  "language_info": {
   "codemirror_mode": {
    "name": "ipython",
    "version": 3
   },
   "file_extension": ".py",
   "mimetype": "text/x-python",
   "name": "python",
   "nbconvert_exporter": "python",
   "pygments_lexer": "ipython3",
   "version": "3.10.8"
  }
 },
 "nbformat": 4,
 "nbformat_minor": 5
}
