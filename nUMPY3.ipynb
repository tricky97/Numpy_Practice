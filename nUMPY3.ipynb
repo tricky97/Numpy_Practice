{
 "cells": [
  {
   "cell_type": "code",
   "execution_count": 1,
   "id": "75b6c249-e716-4278-a11a-0e7f117772f3",
   "metadata": {},
   "outputs": [],
   "source": [
    "import numpy as np"
   ]
  },
  {
   "cell_type": "code",
   "execution_count": 2,
   "id": "0a02b508-b6c4-430f-be99-5c3941f38582",
   "metadata": {},
   "outputs": [],
   "source": [
    "arr=np.random.randint(1,10,(4,4))"
   ]
  },
  {
   "cell_type": "code",
   "execution_count": 3,
   "id": "6c0b3bed-9666-417f-9f64-dafdf3cfb114",
   "metadata": {},
   "outputs": [
    {
     "data": {
      "text/plain": [
       "array([[9, 4, 3, 4],\n",
       "       [2, 1, 8, 8],\n",
       "       [3, 1, 6, 5],\n",
       "       [9, 4, 8, 7]])"
      ]
     },
     "execution_count": 3,
     "metadata": {},
     "output_type": "execute_result"
    }
   ],
   "source": [
    "arr"
   ]
  },
  {
   "cell_type": "code",
   "execution_count": 4,
   "id": "6aff8b1c-bee5-45d4-991b-3e1af44a2e06",
   "metadata": {},
   "outputs": [
    {
     "data": {
      "text/plain": [
       "array([[9, 4],\n",
       "       [3, 4],\n",
       "       [2, 1],\n",
       "       [8, 8],\n",
       "       [3, 1],\n",
       "       [6, 5],\n",
       "       [9, 4],\n",
       "       [8, 7]])"
      ]
     },
     "execution_count": 4,
     "metadata": {},
     "output_type": "execute_result"
    }
   ],
   "source": [
    "arr.reshape(8,2)"
   ]
  },
  {
   "cell_type": "code",
   "execution_count": 5,
   "id": "d956b754-396a-4919-b456-15484a3eeab6",
   "metadata": {},
   "outputs": [
    {
     "data": {
      "text/plain": [
       "array([[9, 2, 3, 9],\n",
       "       [4, 1, 1, 4],\n",
       "       [3, 8, 6, 8],\n",
       "       [4, 8, 5, 7]])"
      ]
     },
     "execution_count": 5,
     "metadata": {},
     "output_type": "execute_result"
    }
   ],
   "source": [
    "arr.T"
   ]
  },
  {
   "cell_type": "code",
   "execution_count": 6,
   "id": "a5b3340a-44cf-499f-b36c-5a128d4d73fa",
   "metadata": {},
   "outputs": [
    {
     "data": {
      "text/plain": [
       "array([9, 4, 3, 4, 2, 1, 8, 8, 3, 1, 6, 5, 9, 4, 8, 7])"
      ]
     },
     "execution_count": 6,
     "metadata": {},
     "output_type": "execute_result"
    }
   ],
   "source": [
    "arr.flatten()"
   ]
  },
  {
   "cell_type": "code",
   "execution_count": 7,
   "id": "3dff4f18-6b63-47ef-9966-212572e55dfb",
   "metadata": {},
   "outputs": [
    {
     "data": {
      "text/plain": [
       "array([[9, 4, 3, 4],\n",
       "       [2, 1, 8, 8],\n",
       "       [3, 1, 6, 5],\n",
       "       [9, 4, 8, 7]])"
      ]
     },
     "execution_count": 7,
     "metadata": {},
     "output_type": "execute_result"
    }
   ],
   "source": [
    "arr"
   ]
  },
  {
   "cell_type": "code",
   "execution_count": 10,
   "id": "56277060-ef2f-4710-a83c-0c02d26605a9",
   "metadata": {},
   "outputs": [
    {
     "data": {
      "text/plain": [
       "array([[[9, 4, 3, 4]],\n",
       "\n",
       "       [[2, 1, 8, 8]],\n",
       "\n",
       "       [[3, 1, 6, 5]],\n",
       "\n",
       "       [[9, 4, 8, 7]]])"
      ]
     },
     "execution_count": 10,
     "metadata": {},
     "output_type": "execute_result"
    }
   ],
   "source": [
    "np.expand_dims(arr,axis=1)"
   ]
  },
  {
   "cell_type": "code",
   "execution_count": 11,
   "id": "a8e371b2-8ddd-4905-b54c-0a9710d09e87",
   "metadata": {},
   "outputs": [],
   "source": [
    "data=np.array([[1],[2],[3]])"
   ]
  },
  {
   "cell_type": "code",
   "execution_count": 12,
   "id": "26dba106-46fb-4405-9515-d3cc8c840164",
   "metadata": {},
   "outputs": [
    {
     "data": {
      "text/plain": [
       "array([1, 2, 3])"
      ]
     },
     "execution_count": 12,
     "metadata": {},
     "output_type": "execute_result"
    }
   ],
   "source": [
    "np.squeeze(data)"
   ]
  },
  {
   "cell_type": "code",
   "execution_count": 13,
   "id": "b2037804-eb44-47c2-b265-f0b678821536",
   "metadata": {},
   "outputs": [
    {
     "data": {
      "text/plain": [
       "array([1, 1, 2, 2, 3, 3])"
      ]
     },
     "execution_count": 13,
     "metadata": {},
     "output_type": "execute_result"
    }
   ],
   "source": [
    "np.repeat(data,2)"
   ]
  },
  {
   "cell_type": "code",
   "execution_count": 14,
   "id": "0c7b5cc5-6752-4fd9-87f3-7570a6f6536f",
   "metadata": {},
   "outputs": [
    {
     "data": {
      "text/plain": [
       "array([[1],\n",
       "       [2],\n",
       "       [3]])"
      ]
     },
     "execution_count": 14,
     "metadata": {},
     "output_type": "execute_result"
    }
   ],
   "source": [
    "np.roll(data,3)"
   ]
  },
  {
   "cell_type": "code",
   "execution_count": 15,
   "id": "158a9171-d0e3-4071-bdba-5b28075c0c56",
   "metadata": {},
   "outputs": [],
   "source": [
    "arr=np.array([\"sudh\",\"kumar\"])"
   ]
  },
  {
   "cell_type": "code",
   "execution_count": 16,
   "id": "36612fcf-5faa-48c3-a26e-fbb9354fae80",
   "metadata": {},
   "outputs": [
    {
     "data": {
      "text/plain": [
       "array(['sudh', 'kumar'], dtype='<U5')"
      ]
     },
     "execution_count": 16,
     "metadata": {},
     "output_type": "execute_result"
    }
   ],
   "source": [
    "arr"
   ]
  },
  {
   "cell_type": "code",
   "execution_count": 17,
   "id": "516ed670-63a3-45fd-b57d-c3abf670b00d",
   "metadata": {},
   "outputs": [
    {
     "data": {
      "text/plain": [
       "array(['SUDH', 'KUMAR'], dtype='<U5')"
      ]
     },
     "execution_count": 17,
     "metadata": {},
     "output_type": "execute_result"
    }
   ],
   "source": [
    "np.char.upper(arr)"
   ]
  },
  {
   "cell_type": "code",
   "execution_count": 18,
   "id": "24763288-0c6a-46ba-b5b1-ca558a44a8db",
   "metadata": {},
   "outputs": [
    {
     "data": {
      "text/plain": [
       "array(['Sudh', 'Kumar'], dtype='<U5')"
      ]
     },
     "execution_count": 18,
     "metadata": {},
     "output_type": "execute_result"
    }
   ],
   "source": [
    "np.char.capitalize(arr)"
   ]
  },
  {
   "cell_type": "code",
   "execution_count": 19,
   "id": "e92161c8-30be-4af5-9d89-ed70c7b080eb",
   "metadata": {},
   "outputs": [
    {
     "data": {
      "text/plain": [
       "array(['Sudh', 'Kumar'], dtype='<U5')"
      ]
     },
     "execution_count": 19,
     "metadata": {},
     "output_type": "execute_result"
    }
   ],
   "source": [
    "np.char.title(arr)"
   ]
  },
  {
   "cell_type": "code",
   "execution_count": 21,
   "id": "f69ca5c7-3c48-4366-94d3-200c659beda8",
   "metadata": {},
   "outputs": [
    {
     "ename": "NameError",
     "evalue": "name 'arr1' is not defined",
     "output_type": "error",
     "traceback": [
      "\u001b[0;31m---------------------------------------------------------------------------\u001b[0m",
      "\u001b[0;31mNameError\u001b[0m                                 Traceback (most recent call last)",
      "Cell \u001b[0;32mIn[21], line 1\u001b[0m\n\u001b[0;32m----> 1\u001b[0m np\u001b[38;5;241m.\u001b[39mmean(\u001b[43marr1\u001b[49m)\n",
      "\u001b[0;31mNameError\u001b[0m: name 'arr1' is not defined"
     ]
    }
   ],
   "source": [
    "np.mean(arr1)"
   ]
  },
  {
   "cell_type": "code",
   "execution_count": 22,
   "id": "f1da7dea-06c0-4220-a963-7858b56f3a97",
   "metadata": {},
   "outputs": [],
   "source": [
    "arr=np.random.randint(1,10,(4,4))"
   ]
  },
  {
   "cell_type": "code",
   "execution_count": 24,
   "id": "6ef6860e-b914-4870-bfaf-05657821e019",
   "metadata": {},
   "outputs": [
    {
     "data": {
      "text/plain": [
       "5.5"
      ]
     },
     "execution_count": 24,
     "metadata": {},
     "output_type": "execute_result"
    }
   ],
   "source": [
    "np.mean(arr)"
   ]
  },
  {
   "cell_type": "code",
   "execution_count": 25,
   "id": "e81d2798-bfe4-447c-9007-c2c32bf25f31",
   "metadata": {},
   "outputs": [
    {
     "data": {
      "text/plain": [
       "array([[-0.65364362,  0.75390225, -0.14550003, -0.9899925 ],\n",
       "       [-0.14550003,  0.96017029,  0.28366219,  0.96017029],\n",
       "       [ 0.75390225, -0.9899925 , -0.14550003, -0.9899925 ],\n",
       "       [-0.91113026,  0.75390225, -0.9899925 ,  0.54030231]])"
      ]
     },
     "execution_count": 25,
     "metadata": {},
     "output_type": "execute_result"
    }
   ],
   "source": [
    "np.cos(arr)"
   ]
  },
  {
   "cell_type": "code",
   "execution_count": 26,
   "id": "3ee751a4-2930-4fb2-86b9-76fab0ce0d81",
   "metadata": {},
   "outputs": [
    {
     "data": {
      "text/plain": [
       "array([[ 1.15782128,  0.87144798, -6.79971146, -0.14254654],\n",
       "       [-6.79971146, -0.29100619, -3.38051501, -0.29100619],\n",
       "       [ 0.87144798, -0.14254654, -6.79971146, -0.14254654],\n",
       "       [-0.45231566,  0.87144798, -0.14254654,  1.55740772]])"
      ]
     },
     "execution_count": 26,
     "metadata": {},
     "output_type": "execute_result"
    }
   ],
   "source": [
    "np.tan(arr)"
   ]
  },
  {
   "cell_type": "code",
   "execution_count": 27,
   "id": "afc68b6c-aedc-4c8a-81b4-0d0d7e32d6a7",
   "metadata": {},
   "outputs": [
    {
     "data": {
      "text/plain": [
       "array([[5.45981500e+01, 1.09663316e+03, 2.98095799e+03, 2.00855369e+01],\n",
       "       [2.98095799e+03, 4.03428793e+02, 1.48413159e+02, 4.03428793e+02],\n",
       "       [1.09663316e+03, 2.00855369e+01, 2.98095799e+03, 2.00855369e+01],\n",
       "       [8.10308393e+03, 1.09663316e+03, 2.00855369e+01, 2.71828183e+00]])"
      ]
     },
     "execution_count": 27,
     "metadata": {},
     "output_type": "execute_result"
    }
   ],
   "source": [
    "np.exp(arr)"
   ]
  },
  {
   "cell_type": "code",
   "execution_count": 28,
   "id": "e1163af9-7e50-4345-a1d2-111047638bff",
   "metadata": {},
   "outputs": [
    {
     "data": {
      "text/plain": [
       "array([[16, 49, 64,  9],\n",
       "       [64, 36, 25, 36],\n",
       "       [49,  9, 64,  9],\n",
       "       [81, 49,  9,  1]])"
      ]
     },
     "execution_count": 28,
     "metadata": {},
     "output_type": "execute_result"
    }
   ],
   "source": [
    "np.power(arr,2)"
   ]
  },
  {
   "cell_type": "code",
   "execution_count": 29,
   "id": "2f35bf80-4e20-49f4-a078-9093339aed2c",
   "metadata": {},
   "outputs": [
    {
     "data": {
      "text/plain": [
       "5.5"
      ]
     },
     "execution_count": 29,
     "metadata": {},
     "output_type": "execute_result"
    }
   ],
   "source": [
    "np.mean(arr)"
   ]
  },
  {
   "cell_type": "code",
   "execution_count": 30,
   "id": "a080fe1f-d5d9-4503-8d29-818accdf2724",
   "metadata": {},
   "outputs": [
    {
     "data": {
      "text/plain": [
       "6.0"
      ]
     },
     "execution_count": 30,
     "metadata": {},
     "output_type": "execute_result"
    }
   ],
   "source": [
    "np.median(arr)"
   ]
  },
  {
   "cell_type": "code",
   "execution_count": 31,
   "id": "c039f2bb-72c8-4bbe-8725-bce153d6a71e",
   "metadata": {},
   "outputs": [
    {
     "ename": "AttributeError",
     "evalue": "module 'numpy' has no attribute 'mode'",
     "output_type": "error",
     "traceback": [
      "\u001b[0;31m---------------------------------------------------------------------------\u001b[0m",
      "\u001b[0;31mAttributeError\u001b[0m                            Traceback (most recent call last)",
      "Cell \u001b[0;32mIn[31], line 1\u001b[0m\n\u001b[0;32m----> 1\u001b[0m \u001b[43mnp\u001b[49m\u001b[38;5;241;43m.\u001b[39;49m\u001b[43mmode\u001b[49m(arr)\n",
      "File \u001b[0;32m/opt/conda/lib/python3.10/site-packages/numpy/__init__.py:311\u001b[0m, in \u001b[0;36m__getattr__\u001b[0;34m(attr)\u001b[0m\n\u001b[1;32m    308\u001b[0m     \u001b[38;5;28;01mfrom\u001b[39;00m \u001b[38;5;21;01m.\u001b[39;00m\u001b[38;5;21;01mtesting\u001b[39;00m \u001b[38;5;28;01mimport\u001b[39;00m Tester\n\u001b[1;32m    309\u001b[0m     \u001b[38;5;28;01mreturn\u001b[39;00m Tester\n\u001b[0;32m--> 311\u001b[0m \u001b[38;5;28;01mraise\u001b[39;00m \u001b[38;5;167;01mAttributeError\u001b[39;00m(\u001b[38;5;124m\"\u001b[39m\u001b[38;5;124mmodule \u001b[39m\u001b[38;5;132;01m{!r}\u001b[39;00m\u001b[38;5;124m has no attribute \u001b[39m\u001b[38;5;124m\"\u001b[39m\n\u001b[1;32m    312\u001b[0m                      \u001b[38;5;124m\"\u001b[39m\u001b[38;5;132;01m{!r}\u001b[39;00m\u001b[38;5;124m\"\u001b[39m\u001b[38;5;241m.\u001b[39mformat(\u001b[38;5;18m__name__\u001b[39m, attr))\n",
      "\u001b[0;31mAttributeError\u001b[0m: module 'numpy' has no attribute 'mode'"
     ]
    }
   ],
   "source": [
    "np.mode(arr)"
   ]
  },
  {
   "cell_type": "code",
   "execution_count": 32,
   "id": "aa868d13-3bff-4b93-9d55-e0e2a8a54a95",
   "metadata": {},
   "outputs": [
    {
     "data": {
      "text/plain": [
       "2.318404623873926"
      ]
     },
     "execution_count": 32,
     "metadata": {},
     "output_type": "execute_result"
    }
   ],
   "source": [
    "np.std(arr)"
   ]
  },
  {
   "cell_type": "code",
   "execution_count": 33,
   "id": "6dbc51cd-d2ec-4424-832a-d2528acb65ea",
   "metadata": {},
   "outputs": [
    {
     "data": {
      "text/plain": [
       "5.375"
      ]
     },
     "execution_count": 33,
     "metadata": {},
     "output_type": "execute_result"
    }
   ],
   "source": [
    "np.var(arr)"
   ]
  },
  {
   "cell_type": "code",
   "execution_count": 34,
   "id": "7cc32b44-cc2d-412b-a9e1-81f7679ffd10",
   "metadata": {},
   "outputs": [
    {
     "data": {
      "text/plain": [
       "1"
      ]
     },
     "execution_count": 34,
     "metadata": {},
     "output_type": "execute_result"
    }
   ],
   "source": [
    "np.min(arr)"
   ]
  },
  {
   "cell_type": "code",
   "execution_count": 35,
   "id": "a6d1e392-e4bc-4bed-92df-d11681dbfc11",
   "metadata": {},
   "outputs": [
    {
     "data": {
      "text/plain": [
       "9"
      ]
     },
     "execution_count": 35,
     "metadata": {},
     "output_type": "execute_result"
    }
   ],
   "source": [
    "np.max(arr)"
   ]
  },
  {
   "cell_type": "code",
   "execution_count": 36,
   "id": "c78f7755-e339-4c17-9351-2417d391c3b9",
   "metadata": {},
   "outputs": [],
   "source": [
    "arr1=np.random.randint(1,10,(4,4))\n",
    "arr2=np.random.randint(11,20,(4,4))"
   ]
  },
  {
   "cell_type": "code",
   "execution_count": 37,
   "id": "f9ecbb4e-ce4d-4586-9d0e-8803ca27647d",
   "metadata": {},
   "outputs": [
    {
     "data": {
      "text/plain": [
       "array([[ -9, -13, -12, -12],\n",
       "       [-17, -12,  -5, -14],\n",
       "       [-13,  -7, -13, -14],\n",
       "       [-11,  -3,  -7, -10]])"
      ]
     },
     "execution_count": 37,
     "metadata": {},
     "output_type": "execute_result"
    }
   ],
   "source": [
    "arr1-arr2"
   ]
  },
  {
   "cell_type": "code",
   "execution_count": 38,
   "id": "e63b1197-0e3f-49f0-9d5e-8d9157e40535",
   "metadata": {},
   "outputs": [
    {
     "data": {
      "text/plain": [
       "array([[112,  68,  85, 133],\n",
       "       [ 18,  64, 104,  15],\n",
       "       [ 30,  44,  14,  95],\n",
       "       [ 26, 108,  78,  96]])"
      ]
     },
     "execution_count": 38,
     "metadata": {},
     "output_type": "execute_result"
    }
   ],
   "source": [
    "np.multiply(arr1,arr2)"
   ]
  },
  {
   "cell_type": "code",
   "execution_count": 39,
   "id": "8d9eb757-66c3-4ac8-84ec-d4c5b238f6e7",
   "metadata": {},
   "outputs": [
    {
     "data": {
      "text/plain": [
       "array([[   33232930569601,       17179869184,      762939453125,\n",
       "        11398895185373143],\n",
       "       [                1,        4294967296,      549755813888,\n",
       "                        1],\n",
       "       [            32768,           4194304,                 1,\n",
       "           19073486328125],\n",
       "       [             8192,      282429536481,       13060694016,\n",
       "            2821109907456]])"
      ]
     },
     "execution_count": 39,
     "metadata": {},
     "output_type": "execute_result"
    }
   ],
   "source": [
    "np.power(arr1,arr2)"
   ]
  },
  {
   "cell_type": "code",
   "execution_count": 40,
   "id": "1cba2cf8-1986-4cef-a6a0-aaf5f92ece7e",
   "metadata": {},
   "outputs": [
    {
     "data": {
      "text/plain": [
       "array([[2.64575131, 2.        , 2.23606798, 2.64575131],\n",
       "       [1.        , 2.        , 2.82842712, 1.        ],\n",
       "       [1.41421356, 2.        , 1.        , 2.23606798],\n",
       "       [1.41421356, 3.        , 2.44948974, 2.44948974]])"
      ]
     },
     "execution_count": 40,
     "metadata": {},
     "output_type": "execute_result"
    }
   ],
   "source": [
    "np.sqrt(arr1)"
   ]
  },
  {
   "cell_type": "code",
   "execution_count": null,
   "id": "1edfffd9-506b-43ca-8486-1b05a1524478",
   "metadata": {},
   "outputs": [],
   "source": []
  }
 ],
 "metadata": {
  "kernelspec": {
   "display_name": "Python 3 (ipykernel)",
   "language": "python",
   "name": "python3"
  },
  "language_info": {
   "codemirror_mode": {
    "name": "ipython",
    "version": 3
   },
   "file_extension": ".py",
   "mimetype": "text/x-python",
   "name": "python",
   "nbconvert_exporter": "python",
   "pygments_lexer": "ipython3",
   "version": "3.10.8"
  }
 },
 "nbformat": 4,
 "nbformat_minor": 5
}
